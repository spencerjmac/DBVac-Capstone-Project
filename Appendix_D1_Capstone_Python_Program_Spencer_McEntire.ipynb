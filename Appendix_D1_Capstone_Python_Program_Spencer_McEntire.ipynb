{
  "nbformat": 4,
  "nbformat_minor": 0,
  "metadata": {
    "colab": {
      "provenance": []
    },
    "kernelspec": {
      "name": "python3",
      "display_name": "Python 3"
    },
    "language_info": {
      "name": "python"
    }
  },
  "cells": [
    {
      "cell_type": "markdown",
      "source": [
        "# Capstone Assignment - Python Program\n",
        "Place your Python Program (as described in the DATA 2100 Capstone Assignment file) in the below code box.\n",
        "\n",
        "You will need to access the DBVacHR database to complete this program. The code for doing this, which uses the pymssql library, is provided for you in the code cell below.  You do **not** need to upload any database files into this Colab Notebook.\n",
        "\n",
        "# Submission Requirements\n",
        "\n",
        "After completing the coding, run your program by clicking the \"run cell\" (play) button on the left side of the  code box.  Be sure to enter any necessary inputs for the program to run to its completion.  Before submitting, **make sure the output of each program is viewable beneath the code box**.\n",
        "- To save the PDF to your computer, press File in the upper left-hand corner --> Print --> Save as PDF (Not available in all browsers; Chrome recommended).\n",
        "\n",
        "- To save the .ipynb file --> Press File in the upper left-hand corner --> Download --> Download .ipynb file.\n"
      ],
      "metadata": {
        "id": "rbw_b0zRL0QU"
      }
    },
    {
      "cell_type": "code",
      "source": [
        "# Place your program here.\n",
        "print(\"Welcome to the DBVac Product Manager Program!\")\n",
        "print(\"This tool helps people find potential candidateas for leading new initiatives. \")\n",
        "# Import pymssql library for connecting to remote SQL Server databases (similar to sqlite3)\n",
        "!pip install pymssql\n",
        "import pymssql\n",
        "\n",
        "# Connect to the remote database server\n",
        "conn = pymssql.connect(host='data-2100.ckm1cfmd3i4j.us-west-2.rds.amazonaws.com', # Connect to remote server on Amazon Web Services (AWS).\n",
        "                       user='data2100', # Username\n",
        "                       password='GoAggies!', # Password\n",
        "                       database='dbvachr') # Database to use\n",
        "\n",
        "# From here, follow the same steps to create a cursor, execute queries, etc.\n",
        "cursor = conn.cursor()\n",
        "while True:\n",
        "    try:\n",
        "        minmonths = int(input('Enter the minimum number of months the manager has worked at the company: '))\n",
        "        break\n",
        "    except:\n",
        "        print('Please enter a valid integer.')\n",
        "\n",
        "while True:\n",
        "    try:\n",
        "        maxbonus = int(input('Enter the max bonus anmount you are willing to pay: '))\n",
        "        break\n",
        "    except:\n",
        "        print('Please enter a valid integer.')\n",
        "try:\n",
        "    query = f'''\n",
        "        SELECT Fname, Lname, RelToCEO, CurrSalary, (CurrSalary * 0.09) AS Bonus, RoleName, MonthsAtCo\n",
        "        FROM Employee e JOIN EmpRole er\n",
        "        ON e.EmpID = er.EmpID JOIN Role r\n",
        "        ON er.RoleID = r.RoleID\n",
        "        WHERE RoleName IN ('Product Manager I', 'Product Manager II')\n",
        "        AND MonthsAtCo >= {minmonths}\n",
        "        AND (CurrSalary * 0.09) <= {maxbonus}\n",
        "        '''\n",
        "\n",
        "    cursor.execute(query)\n",
        "    results = cursor.fetchall()\n",
        "\n",
        "    for x in results:\n",
        "      print(f'A potential product manager is {x[0]} {x[1]}. They are {x[2]}, and earn {x[3]} each year. Their required bonus for completeing a project is {x[4]}.')\n",
        "except:\n",
        "  print('Something went wrong.')\n"
      ],
      "metadata": {
        "id": "5UorpmJcNGx_",
        "colab": {
          "base_uri": "https://localhost:8080/"
        },
        "outputId": "24433041-2222-426b-fda2-1a9fb54a1610"
      },
      "execution_count": null,
      "outputs": [
        {
          "output_type": "stream",
          "name": "stdout",
          "text": [
            "Welcome to the DBVac Product Manager Program!\n",
            "This tool helps people find potential candidateas for leading new initiatives. \n",
            "Requirement already satisfied: pymssql in /usr/local/lib/python3.11/dist-packages (2.3.4)\n",
            "Enter the minimum number of months the manager has worked at the company: 20\n",
            "Enter the max bonus anmount you are willing to pay: 8000\n",
            "A potential product manager is Evan Thompson. They are nephew/niece, and earn 88600.0000 each year. Their required bonus for completeing a project is 7974.000000.\n"
          ]
        }
      ]
    }
  ]
}